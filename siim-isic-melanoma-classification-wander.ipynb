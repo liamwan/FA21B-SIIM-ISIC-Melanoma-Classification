{
 "cells": [
  {
   "cell_type": "markdown",
   "id": "43219356",
   "metadata": {
    "papermill": {
     "duration": 0.005849,
     "end_time": "2023-05-23T19:44:47.713349",
     "exception": false,
     "start_time": "2023-05-23T19:44:47.707500",
     "status": "completed"
    },
    "tags": []
   },
   "source": [
    "# SIIM-ISIC Melanoma Classification\n",
    "## Binary Classification Projektarbeit vom 22.05. bis 06.06.2023 ~ Liam Wander\n",
    "\n",
    "- Erstellen Sie eine kurze explorative Datenanalyse zur train.csv um erste Einsichten zu gewinnen. Auffälligkeiten bitte in kurzer Form im Markdown notieren.\n",
    "- Erstellen Sie ein Pytorch-Dataset, in dem Sie die Bilder und tabularen Daten zusammenfassen. Das Dataset wird drei(!) Dinge zurückgeben (das Bild, die passende Zeile aus dem Dataframe sowie das Target)\n",
    "- Erstellen Sie ein Pytorch-Modell, welches ausschließlich aufgrund der Bilder klassifiziert.\n",
    "- Testen Sie das Modell mit einem Sample\n",
    "- Trainieren Sie das Modell und geben Sie die Accuracy sowie den F1-Score aus\n",
    "- Kombinieren Sie nun tabulare Daten und Bilder: Erstellen Sie ein weiteres Pytorch-Modell welches das Bild UND die tabularen Daten verarbeiten kann. (Tipp: die Forward-Methode bekommt hier das Bild sowie die passende Zeile aus dem Dataframe übergeben, es handelt sich hier um ein Multimodales-Modell)\n",
    "- Halten Sie ihr Vorgehen in Form eines (kurzen, gerne auch stichwortartigen) Protokolls im Markdown fest. Gehen Sie auch auf Probleme und Sackgassen ein!\n",
    "- Beide Modelle sollen eine submission erstellen!\n",
    "\n",
    "Tipps:\n",
    "\n",
    "- Da hier einiges neu ist (multimodales Modell z.B.): nutzen Sie copilot, chatgpt und das Internet um herauszufinden, wie Sie das Problem angehen. \n",
    "- Das Dataset ist unbalanced, das ist ein Problem welches Sie lösen müssen\n",
    "- EfficientNet dürfen auch benutzt werden, sie sind kleiner und leistungsfähiger als resnets → https://pytorch.org/hub/nvidia_deeplearningexamples_efficientnet/\n",
    "\n",
    "https://www.statology.org/label-encoding-vs-one-hot-encoding/ OHE statt LabelEncoding, da LE eine scheinbare Gewichtung erzeugt\n",
    "\n",
    "https://www.statology.org/dummy-variable-trap/"
   ]
  },
  {
   "cell_type": "code",
   "execution_count": 1,
   "id": "a839b247",
   "metadata": {
    "_cell_guid": "b1076dfc-b9ad-4769-8c92-a6c4dae69d19",
    "_uuid": "8f2839f25d086af736a60e9eeb907d3b93b6e0e5",
    "execution": {
     "iopub.execute_input": "2023-05-23T19:44:47.726129Z",
     "iopub.status.busy": "2023-05-23T19:44:47.725446Z",
     "iopub.status.idle": "2023-05-23T19:44:49.134421Z",
     "shell.execute_reply": "2023-05-23T19:44:49.133299Z"
    },
    "papermill": {
     "duration": 1.418356,
     "end_time": "2023-05-23T19:44:49.136961",
     "exception": false,
     "start_time": "2023-05-23T19:44:47.718605",
     "status": "completed"
    },
    "tags": []
   },
   "outputs": [
    {
     "name": "stderr",
     "output_type": "stream",
     "text": [
      "/opt/conda/lib/python3.10/site-packages/scipy/__init__.py:146: UserWarning: A NumPy version >=1.16.5 and <1.23.0 is required for this version of SciPy (detected version 1.23.5\n",
      "  warnings.warn(f\"A NumPy version >={np_minversion} and <{np_maxversion}\"\n"
     ]
    }
   ],
   "source": [
    "import matplotlib.pyplot as plt\n",
    "import seaborn as sns\n",
    "sns.set()\n",
    "\n",
    "import numpy as np # linear algebra\n",
    "import pandas as pd # data processing, CSV file I/O (e.g. pd.read_csv)\n",
    "from sklearn.model_selection import train_test_split\n"
   ]
  },
  {
   "cell_type": "markdown",
   "id": "db578054",
   "metadata": {
    "papermill": {
     "duration": 0.009443,
     "end_time": "2023-05-23T19:44:49.152029",
     "exception": false,
     "start_time": "2023-05-23T19:44:49.142586",
     "status": "completed"
    },
    "tags": []
   },
   "source": [
    "## Datenaufbereitung und Explorative Datenanalyse via ```train.csv```"
   ]
  },
  {
   "cell_type": "code",
   "execution_count": 2,
   "id": "700f2716",
   "metadata": {
    "execution": {
     "iopub.execute_input": "2023-05-23T19:44:49.164824Z",
     "iopub.status.busy": "2023-05-23T19:44:49.163886Z",
     "iopub.status.idle": "2023-05-23T19:44:49.274381Z",
     "shell.execute_reply": "2023-05-23T19:44:49.273416Z"
    },
    "papermill": {
     "duration": 0.119189,
     "end_time": "2023-05-23T19:44:49.276643",
     "exception": false,
     "start_time": "2023-05-23T19:44:49.157454",
     "status": "completed"
    },
    "tags": []
   },
   "outputs": [],
   "source": [
    "train_data = pd.read_csv('/kaggle/input/siim-isic-melanoma-classification/train.csv')\n",
    "test_data = pd.read_csv('/kaggle/input/siim-isic-melanoma-classification/test.csv')"
   ]
  },
  {
   "cell_type": "code",
   "execution_count": 3,
   "id": "c8649da4",
   "metadata": {
    "execution": {
     "iopub.execute_input": "2023-05-23T19:44:49.288966Z",
     "iopub.status.busy": "2023-05-23T19:44:49.288660Z",
     "iopub.status.idle": "2023-05-23T19:44:49.319817Z",
     "shell.execute_reply": "2023-05-23T19:44:49.318801Z"
    },
    "papermill": {
     "duration": 0.039579,
     "end_time": "2023-05-23T19:44:49.321892",
     "exception": false,
     "start_time": "2023-05-23T19:44:49.282313",
     "status": "completed"
    },
    "tags": []
   },
   "outputs": [
    {
     "data": {
      "text/html": [
       "<div>\n",
       "<style scoped>\n",
       "    .dataframe tbody tr th:only-of-type {\n",
       "        vertical-align: middle;\n",
       "    }\n",
       "\n",
       "    .dataframe tbody tr th {\n",
       "        vertical-align: top;\n",
       "    }\n",
       "\n",
       "    .dataframe thead th {\n",
       "        text-align: right;\n",
       "    }\n",
       "</style>\n",
       "<table border=\"1\" class=\"dataframe\">\n",
       "  <thead>\n",
       "    <tr style=\"text-align: right;\">\n",
       "      <th></th>\n",
       "      <th>image_name</th>\n",
       "      <th>patient_id</th>\n",
       "      <th>sex</th>\n",
       "      <th>age_approx</th>\n",
       "      <th>anatom_site_general_challenge</th>\n",
       "      <th>diagnosis</th>\n",
       "      <th>benign_malignant</th>\n",
       "      <th>target</th>\n",
       "    </tr>\n",
       "  </thead>\n",
       "  <tbody>\n",
       "    <tr>\n",
       "      <th>0</th>\n",
       "      <td>ISIC_2637011</td>\n",
       "      <td>IP_7279968</td>\n",
       "      <td>male</td>\n",
       "      <td>45.0</td>\n",
       "      <td>head/neck</td>\n",
       "      <td>unknown</td>\n",
       "      <td>benign</td>\n",
       "      <td>0</td>\n",
       "    </tr>\n",
       "    <tr>\n",
       "      <th>1</th>\n",
       "      <td>ISIC_0015719</td>\n",
       "      <td>IP_3075186</td>\n",
       "      <td>female</td>\n",
       "      <td>45.0</td>\n",
       "      <td>upper extremity</td>\n",
       "      <td>unknown</td>\n",
       "      <td>benign</td>\n",
       "      <td>0</td>\n",
       "    </tr>\n",
       "    <tr>\n",
       "      <th>2</th>\n",
       "      <td>ISIC_0052212</td>\n",
       "      <td>IP_2842074</td>\n",
       "      <td>female</td>\n",
       "      <td>50.0</td>\n",
       "      <td>lower extremity</td>\n",
       "      <td>nevus</td>\n",
       "      <td>benign</td>\n",
       "      <td>0</td>\n",
       "    </tr>\n",
       "    <tr>\n",
       "      <th>3</th>\n",
       "      <td>ISIC_0068279</td>\n",
       "      <td>IP_6890425</td>\n",
       "      <td>female</td>\n",
       "      <td>45.0</td>\n",
       "      <td>head/neck</td>\n",
       "      <td>unknown</td>\n",
       "      <td>benign</td>\n",
       "      <td>0</td>\n",
       "    </tr>\n",
       "    <tr>\n",
       "      <th>4</th>\n",
       "      <td>ISIC_0074268</td>\n",
       "      <td>IP_8723313</td>\n",
       "      <td>female</td>\n",
       "      <td>55.0</td>\n",
       "      <td>upper extremity</td>\n",
       "      <td>unknown</td>\n",
       "      <td>benign</td>\n",
       "      <td>0</td>\n",
       "    </tr>\n",
       "  </tbody>\n",
       "</table>\n",
       "</div>"
      ],
      "text/plain": [
       "     image_name  patient_id     sex  age_approx anatom_site_general_challenge  \\\n",
       "0  ISIC_2637011  IP_7279968    male        45.0                     head/neck   \n",
       "1  ISIC_0015719  IP_3075186  female        45.0               upper extremity   \n",
       "2  ISIC_0052212  IP_2842074  female        50.0               lower extremity   \n",
       "3  ISIC_0068279  IP_6890425  female        45.0                     head/neck   \n",
       "4  ISIC_0074268  IP_8723313  female        55.0               upper extremity   \n",
       "\n",
       "  diagnosis benign_malignant  target  \n",
       "0   unknown           benign       0  \n",
       "1   unknown           benign       0  \n",
       "2     nevus           benign       0  \n",
       "3   unknown           benign       0  \n",
       "4   unknown           benign       0  "
      ]
     },
     "execution_count": 3,
     "metadata": {},
     "output_type": "execute_result"
    }
   ],
   "source": [
    "train_data[:5]"
   ]
  },
  {
   "cell_type": "code",
   "execution_count": 4,
   "id": "fd170333",
   "metadata": {
    "execution": {
     "iopub.execute_input": "2023-05-23T19:44:49.335796Z",
     "iopub.status.busy": "2023-05-23T19:44:49.335272Z",
     "iopub.status.idle": "2023-05-23T19:44:49.344859Z",
     "shell.execute_reply": "2023-05-23T19:44:49.344238Z"
    },
    "papermill": {
     "duration": 0.018298,
     "end_time": "2023-05-23T19:44:49.346445",
     "exception": false,
     "start_time": "2023-05-23T19:44:49.328147",
     "status": "completed"
    },
    "tags": []
   },
   "outputs": [
    {
     "data": {
      "text/html": [
       "<div>\n",
       "<style scoped>\n",
       "    .dataframe tbody tr th:only-of-type {\n",
       "        vertical-align: middle;\n",
       "    }\n",
       "\n",
       "    .dataframe tbody tr th {\n",
       "        vertical-align: top;\n",
       "    }\n",
       "\n",
       "    .dataframe thead th {\n",
       "        text-align: right;\n",
       "    }\n",
       "</style>\n",
       "<table border=\"1\" class=\"dataframe\">\n",
       "  <thead>\n",
       "    <tr style=\"text-align: right;\">\n",
       "      <th></th>\n",
       "      <th>image_name</th>\n",
       "      <th>patient_id</th>\n",
       "      <th>sex</th>\n",
       "      <th>age_approx</th>\n",
       "      <th>anatom_site_general_challenge</th>\n",
       "    </tr>\n",
       "  </thead>\n",
       "  <tbody>\n",
       "    <tr>\n",
       "      <th>0</th>\n",
       "      <td>ISIC_0052060</td>\n",
       "      <td>IP_3579794</td>\n",
       "      <td>male</td>\n",
       "      <td>70.0</td>\n",
       "      <td>NaN</td>\n",
       "    </tr>\n",
       "    <tr>\n",
       "      <th>1</th>\n",
       "      <td>ISIC_0052349</td>\n",
       "      <td>IP_7782715</td>\n",
       "      <td>male</td>\n",
       "      <td>40.0</td>\n",
       "      <td>lower extremity</td>\n",
       "    </tr>\n",
       "    <tr>\n",
       "      <th>2</th>\n",
       "      <td>ISIC_0058510</td>\n",
       "      <td>IP_7960270</td>\n",
       "      <td>female</td>\n",
       "      <td>55.0</td>\n",
       "      <td>torso</td>\n",
       "    </tr>\n",
       "    <tr>\n",
       "      <th>3</th>\n",
       "      <td>ISIC_0073313</td>\n",
       "      <td>IP_6375035</td>\n",
       "      <td>female</td>\n",
       "      <td>50.0</td>\n",
       "      <td>torso</td>\n",
       "    </tr>\n",
       "    <tr>\n",
       "      <th>4</th>\n",
       "      <td>ISIC_0073502</td>\n",
       "      <td>IP_0589375</td>\n",
       "      <td>female</td>\n",
       "      <td>45.0</td>\n",
       "      <td>lower extremity</td>\n",
       "    </tr>\n",
       "  </tbody>\n",
       "</table>\n",
       "</div>"
      ],
      "text/plain": [
       "     image_name  patient_id     sex  age_approx anatom_site_general_challenge\n",
       "0  ISIC_0052060  IP_3579794    male        70.0                           NaN\n",
       "1  ISIC_0052349  IP_7782715    male        40.0               lower extremity\n",
       "2  ISIC_0058510  IP_7960270  female        55.0                         torso\n",
       "3  ISIC_0073313  IP_6375035  female        50.0                         torso\n",
       "4  ISIC_0073502  IP_0589375  female        45.0               lower extremity"
      ]
     },
     "execution_count": 4,
     "metadata": {},
     "output_type": "execute_result"
    }
   ],
   "source": [
    "test_data[:5]"
   ]
  },
  {
   "cell_type": "code",
   "execution_count": 5,
   "id": "08e4d1ad",
   "metadata": {
    "execution": {
     "iopub.execute_input": "2023-05-23T19:44:49.359059Z",
     "iopub.status.busy": "2023-05-23T19:44:49.358783Z",
     "iopub.status.idle": "2023-05-23T19:44:49.421163Z",
     "shell.execute_reply": "2023-05-23T19:44:49.420073Z"
    },
    "papermill": {
     "duration": 0.070834,
     "end_time": "2023-05-23T19:44:49.423135",
     "exception": false,
     "start_time": "2023-05-23T19:44:49.352301",
     "status": "completed"
    },
    "tags": []
   },
   "outputs": [
    {
     "name": "stdout",
     "output_type": "stream",
     "text": [
      "<class 'pandas.core.frame.DataFrame'>\n",
      "RangeIndex: 33126 entries, 0 to 33125\n",
      "Data columns (total 8 columns):\n",
      " #   Column                         Non-Null Count  Dtype  \n",
      "---  ------                         --------------  -----  \n",
      " 0   image_name                     33126 non-null  object \n",
      " 1   patient_id                     33126 non-null  object \n",
      " 2   sex                            33061 non-null  object \n",
      " 3   age_approx                     33058 non-null  float64\n",
      " 4   anatom_site_general_challenge  32599 non-null  object \n",
      " 5   diagnosis                      33126 non-null  object \n",
      " 6   benign_malignant               33126 non-null  object \n",
      " 7   target                         33126 non-null  int64  \n",
      "dtypes: float64(1), int64(1), object(6)\n",
      "memory usage: 2.0+ MB\n"
     ]
    }
   ],
   "source": [
    "train_data.info()"
   ]
  },
  {
   "cell_type": "markdown",
   "id": "7e847207",
   "metadata": {
    "papermill": {
     "duration": 0.006503,
     "end_time": "2023-05-23T19:44:49.438260",
     "exception": false,
     "start_time": "2023-05-23T19:44:49.431757",
     "status": "completed"
    },
    "tags": []
   },
   "source": [
    "train.csv enthält mehrere NaN-Werte in den Attributen sex, age_approx und anatom_site_general_challenge"
   ]
  },
  {
   "cell_type": "code",
   "execution_count": 6,
   "id": "e6207f8d",
   "metadata": {
    "execution": {
     "iopub.execute_input": "2023-05-23T19:44:49.454143Z",
     "iopub.status.busy": "2023-05-23T19:44:49.453139Z",
     "iopub.status.idle": "2023-05-23T19:44:49.476486Z",
     "shell.execute_reply": "2023-05-23T19:44:49.474944Z"
    },
    "papermill": {
     "duration": 0.034191,
     "end_time": "2023-05-23T19:44:49.478463",
     "exception": false,
     "start_time": "2023-05-23T19:44:49.444272",
     "status": "completed"
    },
    "tags": []
   },
   "outputs": [
    {
     "name": "stdout",
     "output_type": "stream",
     "text": [
      "<class 'pandas.core.frame.DataFrame'>\n",
      "RangeIndex: 10982 entries, 0 to 10981\n",
      "Data columns (total 5 columns):\n",
      " #   Column                         Non-Null Count  Dtype  \n",
      "---  ------                         --------------  -----  \n",
      " 0   image_name                     10982 non-null  object \n",
      " 1   patient_id                     10982 non-null  object \n",
      " 2   sex                            10982 non-null  object \n",
      " 3   age_approx                     10982 non-null  float64\n",
      " 4   anatom_site_general_challenge  10631 non-null  object \n",
      "dtypes: float64(1), object(4)\n",
      "memory usage: 429.1+ KB\n"
     ]
    }
   ],
   "source": [
    "test_data.info()"
   ]
  },
  {
   "cell_type": "code",
   "execution_count": 7,
   "id": "3a890b32",
   "metadata": {
    "execution": {
     "iopub.execute_input": "2023-05-23T19:44:49.492284Z",
     "iopub.status.busy": "2023-05-23T19:44:49.491426Z",
     "iopub.status.idle": "2023-05-23T19:44:49.500210Z",
     "shell.execute_reply": "2023-05-23T19:44:49.498956Z"
    },
    "papermill": {
     "duration": 0.017506,
     "end_time": "2023-05-23T19:44:49.502158",
     "exception": false,
     "start_time": "2023-05-23T19:44:49.484652",
     "status": "completed"
    },
    "tags": []
   },
   "outputs": [
    {
     "data": {
      "text/plain": [
       "array(['male', 'female', nan], dtype=object)"
      ]
     },
     "execution_count": 7,
     "metadata": {},
     "output_type": "execute_result"
    }
   ],
   "source": [
    "train_data['sex'].unique()"
   ]
  },
  {
   "cell_type": "code",
   "execution_count": 8,
   "id": "4abd933f",
   "metadata": {
    "execution": {
     "iopub.execute_input": "2023-05-23T19:44:49.515092Z",
     "iopub.status.busy": "2023-05-23T19:44:49.514811Z",
     "iopub.status.idle": "2023-05-23T19:44:49.522161Z",
     "shell.execute_reply": "2023-05-23T19:44:49.521227Z"
    },
    "papermill": {
     "duration": 0.01591,
     "end_time": "2023-05-23T19:44:49.523857",
     "exception": false,
     "start_time": "2023-05-23T19:44:49.507947",
     "status": "completed"
    },
    "tags": []
   },
   "outputs": [
    {
     "data": {
      "text/plain": [
       "array([45., 50., 55., 40., 25., 35., 30., 75., 70., 65., 60., nan, 80.,\n",
       "       20., 85., 15., 90., 10.,  0.])"
      ]
     },
     "execution_count": 8,
     "metadata": {},
     "output_type": "execute_result"
    }
   ],
   "source": [
    "train_data['age_approx'].unique()"
   ]
  },
  {
   "cell_type": "code",
   "execution_count": 9,
   "id": "8a9fbe22",
   "metadata": {
    "execution": {
     "iopub.execute_input": "2023-05-23T19:44:49.537482Z",
     "iopub.status.busy": "2023-05-23T19:44:49.536984Z",
     "iopub.status.idle": "2023-05-23T19:44:49.552812Z",
     "shell.execute_reply": "2023-05-23T19:44:49.551976Z"
    },
    "papermill": {
     "duration": 0.025739,
     "end_time": "2023-05-23T19:44:49.555576",
     "exception": false,
     "start_time": "2023-05-23T19:44:49.529837",
     "status": "completed"
    },
    "tags": []
   },
   "outputs": [
    {
     "data": {
      "text/plain": [
       "count    33058.000000\n",
       "mean        48.870016\n",
       "std         14.380360\n",
       "min          0.000000\n",
       "25%         40.000000\n",
       "50%         50.000000\n",
       "75%         60.000000\n",
       "max         90.000000\n",
       "Name: age_approx, dtype: float64"
      ]
     },
     "execution_count": 9,
     "metadata": {},
     "output_type": "execute_result"
    }
   ],
   "source": [
    "train_data['age_approx'].describe()"
   ]
  },
  {
   "cell_type": "markdown",
   "id": "3ca387a2",
   "metadata": {
    "papermill": {
     "duration": 0.006439,
     "end_time": "2023-05-23T19:44:49.570797",
     "exception": false,
     "start_time": "2023-05-23T19:44:49.564358",
     "status": "completed"
    },
    "tags": []
   },
   "source": [
    "Die NaN Werte des numerischen Tupels ```age_approx``` werden aufgrund der Extremen mit dem Median ersetzt (50%=50)"
   ]
  },
  {
   "cell_type": "code",
   "execution_count": 10,
   "id": "053a5535",
   "metadata": {
    "execution": {
     "iopub.execute_input": "2023-05-23T19:44:49.584158Z",
     "iopub.status.busy": "2023-05-23T19:44:49.583858Z",
     "iopub.status.idle": "2023-05-23T19:44:49.588591Z",
     "shell.execute_reply": "2023-05-23T19:44:49.587660Z"
    },
    "papermill": {
     "duration": 0.014408,
     "end_time": "2023-05-23T19:44:49.591326",
     "exception": false,
     "start_time": "2023-05-23T19:44:49.576918",
     "status": "completed"
    },
    "tags": []
   },
   "outputs": [],
   "source": [
    "train_data['age_approx'].fillna(50,inplace = True)"
   ]
  },
  {
   "cell_type": "code",
   "execution_count": 11,
   "id": "28c372f1",
   "metadata": {
    "execution": {
     "iopub.execute_input": "2023-05-23T19:44:49.605812Z",
     "iopub.status.busy": "2023-05-23T19:44:49.605540Z",
     "iopub.status.idle": "2023-05-23T19:44:49.612073Z",
     "shell.execute_reply": "2023-05-23T19:44:49.611330Z"
    },
    "papermill": {
     "duration": 0.016233,
     "end_time": "2023-05-23T19:44:49.614499",
     "exception": false,
     "start_time": "2023-05-23T19:44:49.598266",
     "status": "completed"
    },
    "tags": []
   },
   "outputs": [
    {
     "data": {
      "text/plain": [
       "array(['head/neck', 'upper extremity', 'lower extremity', 'torso', nan,\n",
       "       'palms/soles', 'oral/genital'], dtype=object)"
      ]
     },
     "execution_count": 11,
     "metadata": {},
     "output_type": "execute_result"
    }
   ],
   "source": [
    "train_data.iloc[:,4].unique()"
   ]
  },
  {
   "cell_type": "code",
   "execution_count": 12,
   "id": "48a1a605",
   "metadata": {
    "execution": {
     "iopub.execute_input": "2023-05-23T19:44:49.628408Z",
     "iopub.status.busy": "2023-05-23T19:44:49.628104Z",
     "iopub.status.idle": "2023-05-23T19:44:49.636934Z",
     "shell.execute_reply": "2023-05-23T19:44:49.635933Z"
    },
    "papermill": {
     "duration": 0.018121,
     "end_time": "2023-05-23T19:44:49.639208",
     "exception": false,
     "start_time": "2023-05-23T19:44:49.621087",
     "status": "completed"
    },
    "tags": []
   },
   "outputs": [],
   "source": [
    "train_data.iloc[:,4].fillna('unknown', inplace = True)\n",
    "test_data.iloc[:,4].fillna('unknown', inplace = True)"
   ]
  },
  {
   "cell_type": "code",
   "execution_count": 13,
   "id": "bda68094",
   "metadata": {
    "execution": {
     "iopub.execute_input": "2023-05-23T19:44:49.653950Z",
     "iopub.status.busy": "2023-05-23T19:44:49.653641Z",
     "iopub.status.idle": "2023-05-23T19:44:49.692362Z",
     "shell.execute_reply": "2023-05-23T19:44:49.690875Z"
    },
    "papermill": {
     "duration": 0.048482,
     "end_time": "2023-05-23T19:44:49.694706",
     "exception": false,
     "start_time": "2023-05-23T19:44:49.646224",
     "status": "completed"
    },
    "tags": []
   },
   "outputs": [
    {
     "name": "stdout",
     "output_type": "stream",
     "text": [
      "<class 'pandas.core.frame.DataFrame'>\n",
      "RangeIndex: 33126 entries, 0 to 33125\n",
      "Data columns (total 8 columns):\n",
      " #   Column                         Non-Null Count  Dtype  \n",
      "---  ------                         --------------  -----  \n",
      " 0   image_name                     33126 non-null  object \n",
      " 1   patient_id                     33126 non-null  object \n",
      " 2   sex                            33061 non-null  object \n",
      " 3   age_approx                     33126 non-null  float64\n",
      " 4   anatom_site_general_challenge  33126 non-null  object \n",
      " 5   diagnosis                      33126 non-null  object \n",
      " 6   benign_malignant               33126 non-null  object \n",
      " 7   target                         33126 non-null  int64  \n",
      "dtypes: float64(1), int64(1), object(6)\n",
      "memory usage: 2.0+ MB\n"
     ]
    }
   ],
   "source": [
    "train_data.info()"
   ]
  },
  {
   "cell_type": "code",
   "execution_count": 14,
   "id": "19a0cf9c",
   "metadata": {
    "execution": {
     "iopub.execute_input": "2023-05-23T19:44:49.709290Z",
     "iopub.status.busy": "2023-05-23T19:44:49.708922Z",
     "iopub.status.idle": "2023-05-23T19:44:50.011964Z",
     "shell.execute_reply": "2023-05-23T19:44:50.010963Z"
    },
    "papermill": {
     "duration": 0.312326,
     "end_time": "2023-05-23T19:44:50.013898",
     "exception": false,
     "start_time": "2023-05-23T19:44:49.701572",
     "status": "completed"
    },
    "tags": []
   },
   "outputs": [
    {
     "data": {
      "text/plain": [
       "<AxesSubplot: >"
      ]
     },
     "execution_count": 14,
     "metadata": {},
     "output_type": "execute_result"
    },
    {
     "data": {
      "image/png": "[encoded data removed]",
      "text/plain": [
       "<Figure size 640x480 with 1 Axes>"
      ]
     },
     "metadata": {},
     "output_type": "display_data"
    }
   ],
   "source": [
    "train_data['target'].hist()"
   ]
  },
  {
   "cell_type": "markdown",
   "id": "1bd06214",
   "metadata": {
    "papermill": {
     "duration": 0.006261,
     "end_time": "2023-05-23T19:44:50.027553",
     "exception": false,
     "start_time": "2023-05-23T19:44:50.021292",
     "status": "completed"
    },
    "tags": []
   },
   "source": [
    "-> Bewahrheitete Erkenntnis: moderat unausgeglichene Daten unter ```target``` im Datensatz!\n",
    "\n",
    "Möglichkeiten zur \"Korrektur\":\n",
    "- Nutzung anderer Performance Indikatoren\n",
    "- Resampling und gewichten\n",
    "    - 1. Downsampling: das Training mit einer unverhältnismäßig kleinen Teilmenge der Beispiele aus der Mehrheitsklasse.\n",
    "    - 2. Bei der Gewichtung wird der Downsampling-Klasse eine Beispielgewichtung hinzugefügt, die dem Faktor entspricht, um den das Downsampling durchgeführt wurde\n",
    "- Synthetische Datensätze in der Minderklasse bereitstellen"
   ]
  },
  {
   "cell_type": "markdown",
   "id": "17c5860b",
   "metadata": {
    "papermill": {
     "duration": 0.006176,
     "end_time": "2023-05-23T19:44:50.040100",
     "exception": false,
     "start_time": "2023-05-23T19:44:50.033924",
     "status": "completed"
    },
    "tags": []
   },
   "source": [
    "### Using Categorical Data with One Hot Encoding \n",
    "\n",
    "Die einzelnen Tupel sind nicht numerisch, sondern als Object gespeichert. Damit diese im weiteren Vorgehen analysierbar und verwertbar sind, bedarf es eines Label Encodings. Sprich als nächsten Schritt gilt es gleiche Objekte einer Klasse zuzuweisen."
   ]
  },
  {
   "cell_type": "code",
   "execution_count": 15,
   "id": "b2b56d50",
   "metadata": {
    "execution": {
     "iopub.execute_input": "2023-05-23T19:44:50.054884Z",
     "iopub.status.busy": "2023-05-23T19:44:50.054531Z",
     "iopub.status.idle": "2023-05-23T19:44:50.060999Z",
     "shell.execute_reply": "2023-05-23T19:44:50.059746Z"
    },
    "papermill": {
     "duration": 0.016562,
     "end_time": "2023-05-23T19:44:50.063125",
     "exception": false,
     "start_time": "2023-05-23T19:44:50.046563",
     "status": "completed"
    },
    "tags": []
   },
   "outputs": [
    {
     "name": "stderr",
     "output_type": "stream",
     "text": [
      "/tmp/ipykernel_20/3398998241.py:2: SettingWithCopyWarning: \n",
      "A value is trying to be set on a copy of a slice from a DataFrame\n",
      "\n",
      "See the caveats in the documentation: https://pandas.pydata.org/pandas-docs/stable/user_guide/indexing.html#returning-a-view-versus-a-copy\n",
      "  test_data['sex'][0] = np.nan\n"
     ]
    }
   ],
   "source": [
    "# replace one sex entry in test_data with NaN to be able to perform one hot encoding hastily\n",
    "test_data['sex'][0] = np.nan"
   ]
  },
  {
   "cell_type": "code",
   "execution_count": 16,
   "id": "28a3e469",
   "metadata": {
    "execution": {
     "iopub.execute_input": "2023-05-23T19:44:50.080048Z",
     "iopub.status.busy": "2023-05-23T19:44:50.079695Z",
     "iopub.status.idle": "2023-05-23T19:44:50.138513Z",
     "shell.execute_reply": "2023-05-23T19:44:50.137574Z"
    },
    "papermill": {
     "duration": 0.070083,
     "end_time": "2023-05-23T19:44:50.141259",
     "exception": false,
     "start_time": "2023-05-23T19:44:50.071176",
     "status": "completed"
    },
    "tags": []
   },
   "outputs": [
    {
     "name": "stdout",
     "output_type": "stream",
     "text": [
      "['s_male', 's_female', 's_nan', 'a_head/neck', 'a_upper extremity', 'a_lower extremity', 'a_torso', 'a_unknown', 'a_palms/soles', 'a_oral/genital']\n",
      "['s_nan', 's_male', 's_female', 'a_unknown', 'a_lower extremity', 'a_torso', 'a_upper extremity', 'a_head/neck', 'a_palms/soles', 'a_oral/genital']\n",
      "       s_male  s_female  s_nan  a_head/neck  a_upper extremity  \\\n",
      "0         0.0       1.0    0.0          1.0                0.0   \n",
      "1         1.0       0.0    0.0          0.0                0.0   \n",
      "2         1.0       0.0    0.0          0.0                1.0   \n",
      "3         1.0       0.0    0.0          1.0                0.0   \n",
      "4         1.0       0.0    0.0          0.0                0.0   \n",
      "...       ...       ...    ...          ...                ...   \n",
      "33121     0.0       1.0    0.0          0.0                0.0   \n",
      "33122     0.0       1.0    0.0          0.0                0.0   \n",
      "33123     0.0       1.0    0.0          0.0                1.0   \n",
      "33124     0.0       1.0    0.0          0.0                1.0   \n",
      "33125     0.0       1.0    0.0          0.0                0.0   \n",
      "\n",
      "       a_lower extremity  a_torso  a_unknown  a_palms/soles  a_oral/genital  \n",
      "0                    0.0      0.0        0.0            0.0             0.0  \n",
      "1                    0.0      0.0        0.0            0.0             1.0  \n",
      "2                    0.0      0.0        0.0            0.0             0.0  \n",
      "3                    0.0      0.0        0.0            0.0             0.0  \n",
      "4                    0.0      0.0        0.0            0.0             1.0  \n",
      "...                  ...      ...        ...            ...             ...  \n",
      "33121                0.0      0.0        1.0            0.0             0.0  \n",
      "33122                0.0      0.0        1.0            0.0             0.0  \n",
      "33123                0.0      0.0        0.0            0.0             0.0  \n",
      "33124                0.0      0.0        0.0            0.0             0.0  \n",
      "33125                0.0      0.0        1.0            0.0             0.0  \n",
      "\n",
      "[33126 rows x 10 columns]\n",
      "       s_male  s_female  s_nan  a_head/neck  a_upper extremity  \\\n",
      "0         0.0       0.0    1.0          0.0                0.0   \n",
      "1         0.0       1.0    0.0          0.0                1.0   \n",
      "2         1.0       0.0    0.0          0.0                0.0   \n",
      "3         1.0       0.0    0.0          0.0                0.0   \n",
      "4         1.0       0.0    0.0          0.0                1.0   \n",
      "...       ...       ...    ...          ...                ...   \n",
      "10977     0.0       1.0    0.0          0.0                0.0   \n",
      "10978     0.0       1.0    0.0          0.0                0.0   \n",
      "10979     0.0       1.0    0.0          0.0                0.0   \n",
      "10980     0.0       1.0    0.0          0.0                1.0   \n",
      "10981     0.0       1.0    0.0          0.0                0.0   \n",
      "\n",
      "       a_lower extremity  a_torso  a_unknown  a_palms/soles  a_oral/genital  \n",
      "0                    0.0      0.0        0.0            1.0             0.0  \n",
      "1                    0.0      0.0        0.0            0.0             0.0  \n",
      "2                    0.0      0.0        1.0            0.0             0.0  \n",
      "3                    0.0      0.0        1.0            0.0             0.0  \n",
      "4                    0.0      0.0        0.0            0.0             0.0  \n",
      "...                  ...      ...        ...            ...             ...  \n",
      "10977                0.0      0.0        1.0            0.0             0.0  \n",
      "10978                0.0      0.0        1.0            0.0             0.0  \n",
      "10979                0.0      0.0        0.0            0.0             1.0  \n",
      "10980                0.0      0.0        0.0            0.0             0.0  \n",
      "10981                0.0      0.0        0.0            0.0             1.0  \n",
      "\n",
      "[10982 rows x 10 columns]\n"
     ]
    }
   ],
   "source": [
    "from sklearn.preprocessing import OneHotEncoder\n",
    "categorical = ['sex', 'anatom_site_general_challenge']\n",
    "cat_to_be_deleted = ['diagnosis', 'benign_malignant'] # sind nicht realistisch in test daten vorhanden! -> schwierig damit ein Netz zu trainieren, es sei denn man will 3 Targets haben\n",
    "categorical_cols_train = []\n",
    "categorical_cols_test = []\n",
    "\n",
    "for col in categorical:\n",
    "    categorical_cols_train += [f\"{col[0]}_{val}\" for val in train_data[col].unique()]\n",
    "    \n",
    "for col in categorical:\n",
    "    categorical_cols_test += [f\"{col[0]}_{val}\" for val in test_data[col].unique()]\n",
    "\n",
    "print(categorical_cols_train)\n",
    "print(categorical_cols_test)\n",
    "# create the encoder object\n",
    "encoder = OneHotEncoder(handle_unknown='ignore', sparse_output=False)\n",
    "\n",
    "# fit and transform the categorical variables.\n",
    "final_train = pd.DataFrame(encoder.fit_transform(train_data[categorical]),\n",
    "                          index=train_data.index, columns=categorical_cols_train)\n",
    "\n",
    "final_test = pd.DataFrame(encoder.transform(test_data[categorical]),\n",
    "                            index=test_data.index, columns=categorical_cols_train)\n",
    "\n",
    "print(final_train)\n",
    "print(final_test)"
   ]
  },
  {
   "cell_type": "markdown",
   "id": "8d3d0244",
   "metadata": {
    "papermill": {
     "duration": 0.006489,
     "end_time": "2023-05-23T19:44:50.155091",
     "exception": false,
     "start_time": "2023-05-23T19:44:50.148602",
     "status": "completed"
    },
    "tags": []
   },
   "source": [
    "Nun haben wir zwei Binärkodierte Datensätze, die vielleicht mehr in einer kurzen explorativen Datenanalyse aussagen können."
   ]
  },
  {
   "cell_type": "code",
   "execution_count": 17,
   "id": "f07584fa",
   "metadata": {
    "execution": {
     "iopub.execute_input": "2023-05-23T19:44:50.170454Z",
     "iopub.status.busy": "2023-05-23T19:44:50.170054Z",
     "iopub.status.idle": "2023-05-23T19:44:50.791887Z",
     "shell.execute_reply": "2023-05-23T19:44:50.790653Z"
    },
    "papermill": {
     "duration": 0.632681,
     "end_time": "2023-05-23T19:44:50.794622",
     "exception": false,
     "start_time": "2023-05-23T19:44:50.161941",
     "status": "completed"
    },
    "tags": []
   },
   "outputs": [
    {
     "data": {
      "text/plain": [
       "<AxesSubplot: >"
      ]
     },
     "execution_count": 17,
     "metadata": {},
     "output_type": "execute_result"
    },
    {
     "data": {
      "image/png": "[encoded data removed]",
      "text/plain": [
       "<Figure size 1000x700 with 2 Axes>"
      ]
     },
     "metadata": {},
     "output_type": "display_data"
    }
   ],
   "source": [
    "corr = final_train.corr()\n",
    "fig, ax = plt.subplots(figsize=(10, 7))\n",
    "sns.heatmap(corr, annot=True, fmt=\".2f\", linewidths=.5)"
   ]
  },
  {
   "cell_type": "markdown",
   "id": "203cdc92",
   "metadata": {
    "papermill": {
     "duration": 0.010875,
     "end_time": "2023-05-23T19:44:50.815573",
     "exception": false,
     "start_time": "2023-05-23T19:44:50.804698",
     "status": "completed"
    },
    "tags": []
   },
   "source": [
    "Der Körperbereich \"unbekannt\" korrelliert mäßig negativ mit dem Körperbereich der Oberen Extremität -> Letzteres, genauso wie der Genitalbereich scheint am häufigsten vorzukommen - bzw. wo unerwünschte Hautveränderungen bemerkt werden(?)\n",
    "Außerdem: Wer kein Mann ist, ist eine Frau - und vice versa."
   ]
  },
  {
   "cell_type": "code",
   "execution_count": 18,
   "id": "ce873d53",
   "metadata": {
    "execution": {
     "iopub.execute_input": "2023-05-23T19:44:50.838445Z",
     "iopub.status.busy": "2023-05-23T19:44:50.837645Z",
     "iopub.status.idle": "2023-05-23T19:44:50.861620Z",
     "shell.execute_reply": "2023-05-23T19:44:50.860265Z"
    },
    "papermill": {
     "duration": 0.035321,
     "end_time": "2023-05-23T19:44:50.863419",
     "exception": false,
     "start_time": "2023-05-23T19:44:50.828098",
     "status": "completed"
    },
    "tags": []
   },
   "outputs": [
    {
     "name": "stdout",
     "output_type": "stream",
     "text": [
      "(26500, 7)\n",
      "(6626, 7)\n",
      "(26500,)\n",
      "(6626,)\n"
     ]
    }
   ],
   "source": [
    "X_train, X_test, y_train, y_test = train_test_split(train_data.drop(['target'], axis=1),\n",
    "                                                    train_data['target'],\n",
    "                                                    test_size=0.2,\n",
    "                                                    random_state=42)\n",
    "print(X_train.shape)\n",
    "print(X_test.shape)\n",
    "print(y_train.shape)\n",
    "print(y_test.shape)"
   ]
  },
  {
   "cell_type": "markdown",
   "id": "da36a8e4",
   "metadata": {
    "papermill": {
     "duration": 0.007902,
     "end_time": "2023-05-23T19:44:50.879711",
     "exception": false,
     "start_time": "2023-05-23T19:44:50.871809",
     "status": "completed"
    },
    "tags": []
   },
   "source": [
    "Feature Scaling benötigt?"
   ]
  },
  {
   "cell_type": "code",
   "execution_count": null,
   "id": "cbe5bb90",
   "metadata": {
    "papermill": {
     "duration": 0.007795,
     "end_time": "2023-05-23T19:44:50.895527",
     "exception": false,
     "start_time": "2023-05-23T19:44:50.887732",
     "status": "completed"
    },
    "tags": []
   },
   "outputs": [],
   "source": []
  }
 ],
 "metadata": {
  "kernelspec": {
   "display_name": "Python 3",
   "language": "python",
   "name": "python3"
  },
  "language_info": {
   "codemirror_mode": {
    "name": "ipython",
    "version": 3
   },
   "file_extension": ".py",
   "mimetype": "text/x-python",
   "name": "python",
   "nbconvert_exporter": "python",
   "pygments_lexer": "ipython3",
   "version": "3.10.10"
  },
  "papermill": {
   "default_parameters": {},
   "duration": 13.096098,
   "end_time": "2023-05-23T19:44:51.824668",
   "environment_variables": {},
   "exception": null,
   "input_path": "__notebook__.ipynb",
   "output_path": "__notebook__.ipynb",
   "parameters": {},
   "start_time": "2023-05-23T19:44:38.728570",
   "version": "2.4.0"
  }
 },
 "nbformat": 4,
 "nbformat_minor": 5
}
